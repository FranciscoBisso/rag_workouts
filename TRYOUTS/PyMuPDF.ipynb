{
 "cells": [
  {
   "cell_type": "code",
   "execution_count": null,
   "metadata": {},
   "outputs": [],
   "source": [
    "%pip install -qU langchain_community langchain_core pymupdf pymupdf4llm rapidocr-onnxruntime"
   ]
  },
  {
   "cell_type": "code",
   "execution_count": 2,
   "metadata": {},
   "outputs": [],
   "source": [
    "# GENERAL IMPORTS\n",
    "import os\n",
    "import re\n",
    "import numpy as np\n",
    "from langchain_core.documents import Document\n",
    "from pathlib import Path\n",
    "from pdf2image import convert_from_path\n",
    "from rich import print\n",
    "from tqdm import tqdm\n",
    "from typing import List, Dict\n",
    "\n",
    "# RICH'S PRINT COLORS\n",
    "YELLOW = \"#fde047\"\n",
    "ORANGE = \"#f97316\"\n",
    "RED = \"#ef4444\"\n",
    "BLUE = \"#3b82f6\"\n",
    "CYAN = \"#06b6d4\"\n",
    "EMERALD = \"#34d399\"\n",
    "VIOLET = \"#a855f7\"\n",
    "PINK = \"#ec4899\"\n",
    "GRAY = \"#64748b\"\n",
    "WHITE = \"#cccccc\"\n",
    "GREEN = \"#3fb618\"\n",
    "\n",
    "# PATHS\n",
    "ROOT_DIR = Path(\"../../../../COLEGA DATA\")\n",
    "PDF_DIR = ROOT_DIR / \"notificaciones\"\n",
    "PDF_DIR_2 = ROOT_DIR / \"MÉTODO DE LA DEMANDA Y SU CONTESTACIÓN\" / \"CAPS\"\n",
    "PDF_FILE_1 = PDF_DIR / \"RES 04-04-2024 - DILIGENCIA PRELIMINAR.pdf\"\n",
    "PDF_FILE_2 = PDF_DIR_2 / \"1_EL_CASO_Y_SU_SOLUCIÓN.pdf\""
   ]
  },
  {
   "cell_type": "code",
   "execution_count": 3,
   "metadata": {},
   "outputs": [],
   "source": [
    "os.environ[\"TOKENIZERS_PARALLELISM\"] = \"false\""
   ]
  },
  {
   "cell_type": "code",
   "execution_count": 4,
   "metadata": {},
   "outputs": [],
   "source": [
    "def search_dir(dir_path: str, file_ext: str) -> List[Dict[str, str]]:\n",
    "    \"\"\"FILE'S SEARCH IN A GIVEN DIRECTORY\"\"\"\n",
    "    dir_path = Path(dir_path)\n",
    "\n",
    "    if not dir_path.is_dir():\n",
    "        raise ValueError(f\"search_dir() => DIRECTORY ({dir_path}) DOESN'T EXIST.\")\n",
    "\n",
    "    if not any(dir_path.iterdir()):\n",
    "        raise ValueError(f\"search_dir() => DIRECTORY ({dir_path}) IS EMPTY.\")\n",
    "\n",
    "    if not file_ext.startswith(\".\"):\n",
    "        file_ext = f\".{file_ext}\"\n",
    "\n",
    "    # SEARCH FOR WANTED FILES\n",
    "    files_info: List[Dict[str, str]] = [\n",
    "        {\"filename\": f.name, \"filepath\": str(f)}\n",
    "        for f in dir_path.glob(f\"*{file_ext}\")\n",
    "        if f.is_file()\n",
    "    ]\n",
    "\n",
    "    # CHECK IF FILES WERE FOUND\n",
    "    if not files_info:\n",
    "        raise ValueError(\n",
    "            f\"search_dir() => NO FILES WITH EXTENSION ({file_ext}) WERE FOUND IN DIRECTORY ({dir_path}).\"\n",
    "        )\n",
    "\n",
    "    return files_info"
   ]
  },
  {
   "cell_type": "code",
   "execution_count": 5,
   "metadata": {},
   "outputs": [],
   "source": [
    "def text_cleaner(text: str) -> str:\n",
    "    \"\"\"\n",
    "    Cleans text by replacing non-breaking spaces, normalizing spaces and newlines,\n",
    "    and removing hash symbols.\n",
    "    \"\"\"\n",
    "    try:\n",
    "        # Replace non-breaking spaces with regular spaces\n",
    "        text = text.replace(\"\\xa0\", \" \")\n",
    "        # Normalize spaces\n",
    "        text = re.sub(r\"\\s+\", \" \", text)\n",
    "        # Normalize newlines if specified\n",
    "        text = re.sub(r\"\\n{3,}\", \"\\n\\n\", text)\n",
    "        # Remove hash symbols if specified\n",
    "        text = re.sub(r\"#\", \"\", text)\n",
    "        # Trim leading and trailing whitespace\n",
    "        text = text.strip()\n",
    "\n",
    "        return text\n",
    "    except Exception as e:\n",
    "        print(f\"An error occurred while cleaning the text: {e}\")\n",
    "        return text"
   ]
  },
  {
   "cell_type": "code",
   "execution_count": 6,
   "metadata": {},
   "outputs": [],
   "source": [
    "def is_text_corrupt(text) -> bool:\n",
    "    \"\"\"Verifica si el texto extraído contiene caracteres corruptos o codificado incorrectamente.\"\"\"\n",
    "    if not text.strip():\n",
    "        return True\n",
    "\n",
    "    # Contar caracteres alfabéticos, espacios y caracteres extraños\n",
    "    total_chars = len(text)\n",
    "    valid_chars = sum(c.isalpha() or c.isspace() for c in text)\n",
    "    invalid_chars = sum(1 for c in text if c in \"�\")  # Caracteres de reemplazo o BOM\n",
    "\n",
    "    # Si hay demasiados caracteres extraños o pocos alfabéticos, marcar como corrupto\n",
    "    if (valid_chars / total_chars) < 0.7:\n",
    "        # if (invalid_chars / total_chars) > 0.3:\n",
    "        return True\n",
    "\n",
    "    return False"
   ]
  },
  {
   "cell_type": "markdown",
   "metadata": {},
   "source": [
    "# PyMuPDF4llm"
   ]
  },
  {
   "cell_type": "code",
   "execution_count": null,
   "metadata": {},
   "outputs": [],
   "source": [
    "%pip install -qU pymupdf4llm"
   ]
  },
  {
   "cell_type": "code",
   "execution_count": 8,
   "metadata": {},
   "outputs": [],
   "source": [
    "from pymupdf4llm import to_markdown"
   ]
  },
  {
   "cell_type": "code",
   "execution_count": 9,
   "metadata": {},
   "outputs": [],
   "source": [
    "def pdf4llm_directory_loader(dir_path: str, file_ext: str) -> List[Document]:\n",
    "    \"\"\"LOADS PDF DOCUMENTS FROM A GIVEN DIRECTORY\"\"\"\n",
    "\n",
    "    # SEARCH IN THE GIVEN DIRECTORY FOR EACH PDF FILE IN IT AND GETS ITS PATH\n",
    "    loaded_docs: List[Document] = []\n",
    "    files_info: List[Dict[str, str]] = search_dir(dir_path, file_ext)\n",
    "\n",
    "    # LOADS EACH PDF FILE: FILE --> LIST[DOCUMENT]\n",
    "    for f in tqdm(\n",
    "        files_info, desc=\"LOADING PDF FILES\", total=len(files_info), colour=EMERALD\n",
    "    ):\n",
    "        md_text = to_markdown(f[\"filepath\"], show_progress=False)\n",
    "        loaded_file = Document(metadata=f, page_content=md_text)\n",
    "\n",
    "        loaded_docs.append(loaded_file)\n",
    "\n",
    "    return loaded_docs"
   ]
  },
  {
   "cell_type": "code",
   "execution_count": null,
   "metadata": {},
   "outputs": [],
   "source": [
    "pdf4llm_docs = pdf4llm_directory_loader(PDF_DIR, \"pdf\")"
   ]
  },
  {
   "cell_type": "code",
   "execution_count": null,
   "metadata": {},
   "outputs": [],
   "source": [
    "for index, doc in enumerate(pdf4llm_docs):\n",
    "    if is_text_corrupt(doc.page_content):\n",
    "        print(f\"[{RED}]{doc.metadata['filename']}[/]\")\n",
    "    else:\n",
    "        print(f\"[{GREEN}]{doc.metadata['filename']}[/]\")"
   ]
  },
  {
   "cell_type": "code",
   "execution_count": null,
   "metadata": {},
   "outputs": [],
   "source": [
    "test_docs = pdf4llm_directory_loader(PDF_DIR_2, \"pdf\")\n",
    "\n",
    "for index, doc in enumerate(test_docs):\n",
    "    if is_text_corrupt(doc.page_content):\n",
    "        print(f\"[{RED}]{doc.metadata['filename']}[/]\")\n",
    "    else:\n",
    "        print(f\"[{GREEN}]{doc.metadata['filename']}[/]\")\n",
    "\n",
    "for index, doc in enumerate(test_docs):\n",
    "    print(\n",
    "        f\"[bold {BLUE}]> DOC N°:[/] [bold {WHITE}]{index}[/]\\n\",\n",
    "        f\"[bold {EMERALD}]> FILENAME:[/] [bold {WHITE}]{doc.metadata[\"filename\"]}[/]\\n\\n\",\n",
    "        f\"[bold {YELLOW}]> CONTENT:[/]\\n[{WHITE}]{doc.page_content[:500]}[/]\",\n",
    "    )"
   ]
  },
  {
   "cell_type": "markdown",
   "metadata": {},
   "source": [
    "---\n",
    "---"
   ]
  },
  {
   "cell_type": "markdown",
   "metadata": {},
   "source": [
    "# PyMuPDFLoader + RapidOCR"
   ]
  },
  {
   "cell_type": "code",
   "execution_count": 14,
   "metadata": {},
   "outputs": [],
   "source": [
    "from langchain_community.document_loaders import PyMuPDFLoader\n",
    "from langchain_community.document_loaders.parsers import RapidOCRBlobParser"
   ]
  },
  {
   "cell_type": "code",
   "execution_count": 16,
   "metadata": {},
   "outputs": [],
   "source": [
    "def pymupdf_directory_loader(dir_path: str, file_ext: str) -> List[Document]:\n",
    "    \"\"\"LOADS PDF DOCUMENTS FROM A GIVEN DIRECTORY\"\"\"\n",
    "\n",
    "    # SEARCH IN THE GIVEN DIRECTORY FOR EACH PDF FILE IN IT AND GETS ITS PATH\n",
    "    loaded_docs: List[Document] = []\n",
    "    files_info: List[Dict[str, str]] = search_dir(dir_path, file_ext)\n",
    "\n",
    "    # LOADS EACH PDF FILE: FILE --> LIST[DOCUMENT]\n",
    "    for f in tqdm(\n",
    "        files_info, desc=\"LOADING PDF FILES\", total=len(files_info), colour=EMERALD\n",
    "    ):\n",
    "        loader = PyMuPDFLoader(\n",
    "            file_path=f[\"filepath\"],\n",
    "            mode=\"page\",\n",
    "            images_inner_format=\"text\",\n",
    "            images_parser=RapidOCRBlobParser(),\n",
    "        )\n",
    "        loaded_file = loader.load()\n",
    "        loaded_docs.append(loaded_file)\n",
    "\n",
    "    return loaded_docs"
   ]
  },
  {
   "cell_type": "code",
   "execution_count": null,
   "metadata": {},
   "outputs": [],
   "source": [
    "rapidocr_docs = pymupdf_directory_loader(PDF_DIR, \"pdf\")"
   ]
  },
  {
   "cell_type": "code",
   "execution_count": null,
   "metadata": {},
   "outputs": [],
   "source": [
    "for index, doc in enumerate(pymupdf_docs):\n",
    "    for page in doc:\n",
    "        print(\n",
    "            f\"[bold {BLUE}]> DOC N°:[/] [bold {WHITE}]{index}[/]\\n\",\n",
    "            f\"[bold {EMERALD}]> FILENAME:[/] [bold {WHITE}]{page.metadata[\"title\"]}[/]\\n\\n\",\n",
    "            f\"[bold {YELLOW}]> CONTENT:[/]\\n[{WHITE}]{page.page_content}[/]\",\n",
    "        )"
   ]
  },
  {
   "cell_type": "markdown",
   "metadata": {},
   "source": [
    "---"
   ]
  },
  {
   "cell_type": "markdown",
   "metadata": {},
   "source": [
    "# PyMuPDFLoader + Tesseract"
   ]
  },
  {
   "cell_type": "code",
   "execution_count": null,
   "metadata": {},
   "outputs": [],
   "source": [
    "%pip install -qU Pillow"
   ]
  },
  {
   "cell_type": "code",
   "execution_count": 19,
   "metadata": {},
   "outputs": [],
   "source": [
    "from langchain_community.document_loaders import PyMuPDFLoader\n",
    "from langchain_community.document_loaders.parsers import TesseractBlobParser"
   ]
  },
  {
   "cell_type": "code",
   "execution_count": 21,
   "metadata": {},
   "outputs": [],
   "source": [
    "def directory_loader(dir_path: str, file_ext: str) -> List[Document]:\n",
    "    \"\"\"LOADS PDF DOCUMENTS FROM A GIVEN DIRECTORY\"\"\"\n",
    "\n",
    "    # SEARCH IN THE GIVEN DIRECTORY FOR EACH PDF FILE IN IT AND GETS ITS PATH\n",
    "    loaded_docs: List[Document] = []\n",
    "    files_info: List[Dict[str, str]] = search_dir(dir_path, file_ext)\n",
    "\n",
    "    # LOADS EACH PDF FILE: FILE --> LIST[DOCUMENT]\n",
    "    for f in tqdm(\n",
    "        files_info, desc=\"LOADING PDF FILES\", total=len(files_info), colour=EMERALD\n",
    "    ):\n",
    "        loader = PyMuPDFLoader(\n",
    "            file_path=f[\"filepath\"],\n",
    "            mode=\"page\",\n",
    "            images_inner_format=\"text\",\n",
    "            images_parser=TesseractBlobParser(),\n",
    "        )\n",
    "        loaded_file = loader.load()\n",
    "        loaded_docs.append(loaded_file)\n",
    "\n",
    "    return loaded_docs"
   ]
  },
  {
   "cell_type": "code",
   "execution_count": null,
   "metadata": {},
   "outputs": [],
   "source": [
    "tesseract_docs = directory_loader(PDF_DIR, \"pdf\")"
   ]
  }
 ],
 "metadata": {
  "kernelspec": {
   "display_name": "base",
   "language": "python",
   "name": "python3"
  },
  "language_info": {
   "codemirror_mode": {
    "name": "ipython",
    "version": 3
   },
   "file_extension": ".py",
   "mimetype": "text/x-python",
   "name": "python",
   "nbconvert_exporter": "python",
   "pygments_lexer": "ipython3",
   "version": "3.12.4"
  }
 },
 "nbformat": 4,
 "nbformat_minor": 2
}
