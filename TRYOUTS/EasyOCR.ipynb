{
 "cells": [
  {
   "cell_type": "code",
   "execution_count": null,
   "metadata": {},
   "outputs": [],
   "source": [
    "%pip install -qU langchain_community langchain_core easyocr pdf2image"
   ]
  },
  {
   "cell_type": "code",
   "execution_count": 2,
   "metadata": {},
   "outputs": [],
   "source": [
    "# GENERAL IMPORTS\n",
    "import re\n",
    "from langchain_core.documents import Document\n",
    "from pathlib import Path\n",
    "from rich import print\n",
    "from tqdm import tqdm\n",
    "from typing import List, Dict\n",
    "\n",
    "# RICH'S PRINT COLORS\n",
    "YELLOW = \"#fde047\"\n",
    "ORANGE = \"#f97316\"\n",
    "RED = \"#ef4444\"\n",
    "BLUE = \"#3b82f6\"\n",
    "CYAN = \"#06b6d4\"\n",
    "EMERALD = \"#34d399\"\n",
    "VIOLET = \"#a855f7\"\n",
    "PINK = \"#ec4899\"\n",
    "GRAY = \"#64748b\"\n",
    "WHITE = \"#cccccc\"\n",
    "GREEN = \"#3fb618\"\n",
    "\n",
    "# PATHS\n",
    "ROOT_DIR = Path(\"../../../../COLEGA DATA\")\n",
    "PDF_DIR = ROOT_DIR / \"notificaciones\"\n",
    "PDF_DIR_2 = ROOT_DIR / \"MÉTODO DE LA DEMANDA Y SU CONTESTACIÓN\" / \"CAPS\"\n",
    "PDF_FILE_1 = PDF_DIR / \"RES 04-04-2024 - DILIGENCIA PRELIMINAR.pdf\"\n",
    "PDF_FILE_2 = PDF_DIR_2 / \"1_EL_CASO_Y_SU_SOLUCIÓN.pdf\""
   ]
  },
  {
   "cell_type": "code",
   "execution_count": 10,
   "metadata": {},
   "outputs": [],
   "source": [
    "def search_dir(dir_path: str, file_ext: str) -> List[Dict[str, str]]:\n",
    "    \"\"\"FILE'S SEARCH IN A GIVEN DIRECTORY\"\"\"\n",
    "    dir_path = Path(dir_path)\n",
    "\n",
    "    if not dir_path.is_dir():\n",
    "        raise ValueError(f\"search_dir() => DIRECTORY ({dir_path}) DOESN'T EXIST.\")\n",
    "\n",
    "    if not any(dir_path.iterdir()):\n",
    "        raise ValueError(f\"search_dir() => DIRECTORY ({dir_path}) IS EMPTY.\")\n",
    "\n",
    "    if not file_ext.startswith(\".\"):\n",
    "        file_ext = f\".{file_ext}\"\n",
    "\n",
    "    # SEARCH FOR WANTED FILES\n",
    "    files_info: List[Dict[str, str]] = [\n",
    "        {\"filename\": f.name, \"filepath\": str(f)}\n",
    "        for f in dir_path.glob(f\"*{file_ext}\")\n",
    "        if f.is_file()\n",
    "    ]\n",
    "\n",
    "    # CHECK IF FILES WERE FOUND\n",
    "    if not files_info:\n",
    "        raise ValueError(\n",
    "            f\"search_dir() => NO FILES WITH EXTENSION ({file_ext}) WERE FOUND IN DIRECTORY ({dir_path}).\"\n",
    "        )\n",
    "\n",
    "    return files_info\n",
    "\n",
    "\n",
    "def text_cleaner(text: str) -> str:\n",
    "    \"\"\"\n",
    "    Cleans text by replacing non-breaking spaces, normalizing spaces and newlines,\n",
    "    and removing hash symbols.\n",
    "    \"\"\"\n",
    "    try:\n",
    "        # From non-breaking space character to a regular space\n",
    "        text = re.sub(r\"\\xa0\", \" \", text)\n",
    "        # From multiple spaces to a single space\n",
    "        text = re.sub(r\" +\", \" \", text)\n",
    "        # From >=3 - symbols to none\n",
    "        text = re.sub(r\"-{3,}\", \"\", text)\n",
    "        # From >=3 line breaks to double line breaks\n",
    "        text = re.sub(r\"\\n{3,}\", \"\\n\\n\", text)\n",
    "        # From >=2  hash symbols to none\n",
    "        text = re.sub(r\"#{2,}\", \"\", text)\n",
    "        # Trim leading and trailing whitespace\n",
    "        text = \"\\n\\n\".join([line.strip() for line in text.split(\"\\n\\n\")])\n",
    "        # text = \"\\n\".join([line.strip() for line in text.split(\"\\n\")])\n",
    "        text = text.strip()\n",
    "\n",
    "    except Exception as e:\n",
    "        print(f\"An error occurred while cleaning the text: {e}\")\n",
    "\n",
    "    return text\n",
    "\n",
    "\n",
    "def is_text_corrupt(text) -> bool:\n",
    "    \"\"\"Verifica si el texto extraído contiene caracteres corruptos o codificado incorrectamente.\"\"\"\n",
    "    if not text.strip():\n",
    "        return True\n",
    "\n",
    "    # Contar caracteres alfabéticos, espacios y caracteres extraños\n",
    "    total_chars = len(text)\n",
    "    valid_chars = sum(c.isalpha() or c.isspace() for c in text)\n",
    "    invalid_chars = sum(1 for c in text if c in \"�\")  # Caracteres de reemplazo o BOM\n",
    "\n",
    "    # Si hay demasiados caracteres extraños o pocos alfabéticos, marcar como corrupto\n",
    "    if (valid_chars / total_chars) < 0.7:\n",
    "        # if (invalid_chars / total_chars) > 0.3:\n",
    "        return True\n",
    "\n",
    "    return False"
   ]
  },
  {
   "cell_type": "code",
   "execution_count": 6,
   "metadata": {},
   "outputs": [],
   "source": [
    "import easyocr\n",
    "import numpy as np\n",
    "from pdf2image import convert_from_path\n",
    "from PIL import Image"
   ]
  },
  {
   "cell_type": "code",
   "execution_count": 7,
   "metadata": {},
   "outputs": [],
   "source": [
    "def directory_loader(dir_path: str, file_ext: str) -> List[Document]:\n",
    "    \"\"\"LOADS PDF DOCUMENTS FROM A GIVEN DIRECTORY WITH PROGRESS INDICATOR.\"\"\"\n",
    "\n",
    "    files_info: List[Dict[str, str]] = search_dir(dir_path, file_ext)\n",
    "\n",
    "    # Initialize EasyOCR reader for Spanish and English\n",
    "    reader = easyocr.Reader([\"es\", \"en\"])\n",
    "\n",
    "    loaded_docs: List[Document] = []\n",
    "    for f in tqdm(\n",
    "        files_info,\n",
    "        desc=\"LOADING PDF FILES\",\n",
    "        total=len(files_info),\n",
    "        colour=EMERALD,\n",
    "    ):\n",
    "        f_pages_imgs = convert_from_path(f[\"filepath\"])\n",
    "\n",
    "        pages: List[Document] = []\n",
    "        for page in f_pages_imgs:\n",
    "            # EasyOCR reads the text\n",
    "            results = reader.readtext(np.array(page))\n",
    "            # Extract text from results\n",
    "            page_extracted_text = \" \".join([text[1] for text in results])\n",
    "\n",
    "            clean_text = text_cleaner(page_extracted_text)\n",
    "\n",
    "            pages.append(Document(metadata=f, page_content=clean_text))\n",
    "\n",
    "        loaded_docs.append(pages)\n",
    "\n",
    "    return loaded_docs"
   ]
  },
  {
   "cell_type": "code",
   "execution_count": null,
   "metadata": {},
   "outputs": [],
   "source": [
    "easy_docs = directory_loader(PDF_DIR, \"pdf\")"
   ]
  },
  {
   "cell_type": "code",
   "execution_count": null,
   "metadata": {},
   "outputs": [],
   "source": [
    "for index, doc in enumerate(easy_docs):\n",
    "    for page in doc:\n",
    "        if is_text_corrupt(page.page_content):\n",
    "            print(f\"[{RED}]{page.metadata['filename']}[/]\")\n",
    "        else:\n",
    "            print(f\"[{GREEN}]{page.metadata['filename']}[/]\")\n",
    "\n",
    "for index, doc in enumerate(easy_docs):\n",
    "    for page in doc:\n",
    "        print(\n",
    "            f\"[bold {BLUE}]> DOC N°:[/] [bold {WHITE}]{index}[/]\\n\",\n",
    "            f\"[bold {EMERALD}]> FILENAME:[/] [bold {WHITE}]{page.metadata[\"filename\"]}[/]\\n\\n\",\n",
    "            f\"[bold {YELLOW}]> CONTENT:[/]\\n[{WHITE}]{page.page_content}[/]\",\n",
    "        )"
   ]
  },
  {
   "cell_type": "markdown",
   "metadata": {},
   "source": [
    "---"
   ]
  },
  {
   "cell_type": "markdown",
   "metadata": {},
   "source": [
    "    TESTING WITH BROKEN PDFS"
   ]
  },
  {
   "cell_type": "code",
   "execution_count": 13,
   "metadata": {},
   "outputs": [],
   "source": [
    "reader = easyocr.Reader([\"es\", \"en\"])\n",
    "\n",
    "pages_imgs: List[Image.Image] = convert_from_path(PDF_FILE_2)\n",
    "\n",
    "loaded_file: List[Document] = []\n",
    "for index, page in enumerate(pages_imgs):\n",
    "    # EasyOCR reads the text\n",
    "    results = reader.readtext(np.array(page))\n",
    "    # Extract text from results\n",
    "    page_extracted_text = \" \".join([text[1] for text in results])\n",
    "\n",
    "    clean_text = text_cleaner(page_extracted_text)\n",
    "\n",
    "    page_doc = Document(\n",
    "        metadata={\"filepath\": str(PDF_FILE_2), \"page\": index + 1},\n",
    "        page_content=clean_text,\n",
    "    )\n",
    "    loaded_file.append(page_doc)"
   ]
  },
  {
   "cell_type": "code",
   "execution_count": null,
   "metadata": {},
   "outputs": [],
   "source": [
    "for page in loaded_file:\n",
    "    print(\n",
    "        f\"[bold {EMERALD}]> METADATA:[/] [bold {WHITE}]{page.metadata[\"filepath\"].split(\"/\")[-1]}[/]\\n\\n\",\n",
    "        f\"[bold {YELLOW}]> CONTENT:[/]\\n[{WHITE}]{page.page_content}[/]\",\n",
    "    )"
   ]
  }
 ],
 "metadata": {
  "kernelspec": {
   "display_name": "base",
   "language": "python",
   "name": "python3"
  },
  "language_info": {
   "codemirror_mode": {
    "name": "ipython",
    "version": 3
   },
   "file_extension": ".py",
   "mimetype": "text/x-python",
   "name": "python",
   "nbconvert_exporter": "python",
   "pygments_lexer": "ipython3",
   "version": "3.12.4"
  }
 },
 "nbformat": 4,
 "nbformat_minor": 2
}
