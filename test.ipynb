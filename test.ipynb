{
 "cells": [
  {
   "cell_type": "code",
   "execution_count": null,
   "metadata": {},
   "outputs": [],
   "source": [
    "%pip install -qU langchain langchain_community langchain_core pymupdf4llm"
   ]
  },
  {
   "cell_type": "code",
   "execution_count": 193,
   "metadata": {},
   "outputs": [],
   "source": [
    "import os\n",
    "from langchain.schema import Document\n",
    "import pymupdf4llm\n",
    "from rich import print\n",
    "from rich.progress import track\n",
    "from typing import List"
   ]
  },
  {
   "cell_type": "code",
   "execution_count": 187,
   "metadata": {},
   "outputs": [],
   "source": [
    "# RICH'S PRINT COLORS\n",
    "YELLOW = \"#fde047\"\n",
    "ORANGE = \"#f97316\"\n",
    "RED = \"#ef4444\"\n",
    "BLUE = \"#3b82f6\"\n",
    "CYAN = \"#06b6d4\"\n",
    "EMERALD = \"#34d399\"\n",
    "VIOLET = \"#a855f7\"\n",
    "PINK = \"#ec4899\"\n",
    "GRAY = \"#64748b\"\n",
    "WHITE = \"#cccccc\""
   ]
  },
  {
   "cell_type": "code",
   "execution_count": 5,
   "metadata": {},
   "outputs": [],
   "source": [
    "PDF_DIR = \"../../../notificaciones\""
   ]
  },
  {
   "cell_type": "code",
   "execution_count": 189,
   "metadata": {},
   "outputs": [],
   "source": [
    "def directory_loader(directory_path: str) -> List[Document]:\n",
    "    \"\"\"LOADS PDF DOCUMENTS FROM A GIVEN DIRECTORY WITH PROGRESS INDICATOR.\"\"\"\n",
    "\n",
    "    if not os.path.exists(directory_path):\n",
    "        raise ValueError(\n",
    "            f\"directory_loader() >>> DIRECTORY {directory_path} DOESN'T EXIST.\"\n",
    "        )\n",
    "\n",
    "    loaded_docs: List[Document] = []\n",
    "\n",
    "    # SEARCH IN THE GIVEN DIRECTORY FOR EACH PDF FILE IN IT AND GETS ITS PATH\n",
    "    pdf_files_info = []\n",
    "    for parent_dir_path, _, files in os.walk(directory_path):\n",
    "        for filename in files:\n",
    "            if filename.endswith(\".pdf\"):\n",
    "                file_path = os.path.join(parent_dir_path, filename)\n",
    "                pdf_files_info.append({\"file_name\": filename, \"file_path\": file_path})\n",
    "\n",
    "    # LOADS EACH PDF FILE: FILE --> LIST[DOCUMENT]\n",
    "    for file_info in track(pdf_files_info, description=\"LOADING FILES\"):\n",
    "        md_text = pymupdf4llm.to_markdown(file_info[\"file_path\"], show_progress=False)\n",
    "        md_text = md_text.replace(\"-----\", \"\")\n",
    "        md_text = md_text.replace(\"\\n\\n\", \"\\n\")\n",
    "        md_text = md_text.replace(\"\\n\\n\\n\", \"\\n\")\n",
    "        md_text = md_text.strip()\n",
    "        loaded_file = Document(metadata=file_info, page_content=md_text)\n",
    "\n",
    "        loaded_docs.append(loaded_file)\n",
    "\n",
    "    return loaded_docs"
   ]
  },
  {
   "cell_type": "code",
   "execution_count": null,
   "metadata": {},
   "outputs": [],
   "source": [
    "docs = directory_loader(PDF_DIR)"
   ]
  },
  {
   "cell_type": "code",
   "execution_count": 191,
   "metadata": {},
   "outputs": [
    {
     "data": {
      "text/plain": [
       "6"
      ]
     },
     "execution_count": 191,
     "metadata": {},
     "output_type": "execute_result"
    }
   ],
   "source": [
    "len(docs)"
   ]
  },
  {
   "cell_type": "code",
   "execution_count": null,
   "metadata": {},
   "outputs": [],
   "source": [
    "for index, doc in enumerate(docs):\n",
    "    print(\n",
    "        f\"[bold {BLUE}]> DOC N°:[/] [bold {WHITE}]{index}[/]\\n\",\n",
    "        f\"[bold {EMERALD}]> FILENAME:[/] [bold {WHITE}]{doc.metadata[\"file_name\"]}[/]\\n\\n\",\n",
    "        f\"[bold {YELLOW}]> CONTENT:[/]\\n[{WHITE}]{doc.page_content}[/]\",\n",
    "    )"
   ]
  },
  {
   "cell_type": "markdown",
   "metadata": {},
   "source": [
    "---\n",
    "---\n",
    "---"
   ]
  }
 ],
 "metadata": {
  "kernelspec": {
   "display_name": "Python 3",
   "language": "python",
   "name": "python3"
  },
  "language_info": {
   "codemirror_mode": {
    "name": "ipython",
    "version": 3
   },
   "file_extension": ".py",
   "mimetype": "text/x-python",
   "name": "python",
   "nbconvert_exporter": "python",
   "pygments_lexer": "ipython3",
   "version": "3.12.4"
  }
 },
 "nbformat": 4,
 "nbformat_minor": 2
}
