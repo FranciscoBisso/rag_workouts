{
 "cells": [
  {
   "cell_type": "code",
   "execution_count": null,
   "metadata": {},
   "outputs": [],
   "source": [
    "%pip install -qU rapidocr-onnxruntime langchain langchain_community langchain_core pymupdf rich"
   ]
  },
  {
   "cell_type": "code",
   "execution_count": 26,
   "metadata": {},
   "outputs": [],
   "source": [
    "import os\n",
    "from langchain.schema import Document\n",
    "from langchain_community.document_loaders import PyMuPDFLoader\n",
    "from langchain_community.document_loaders.parsers import RapidOCRBlobParser\n",
    "from rich import print\n",
    "from rich.progress import track\n",
    "from typing import List"
   ]
  },
  {
   "cell_type": "code",
   "execution_count": 36,
   "metadata": {},
   "outputs": [],
   "source": [
    "# RICH'S PRINT COLORS\n",
    "yellow = f\"#fde047\"\n",
    "orange = f\"#f97316\"\n",
    "red = f\"#ef4444\"\n",
    "blue = f\"#3b82f6\"\n",
    "cyan = f\"#06b6d4\"\n",
    "emerald = f\"#34d399\"\n",
    "violet = f\"#a855f7\"\n",
    "pink = f\"#ec4899\"\n",
    "gray = f\"#64748b\""
   ]
  },
  {
   "cell_type": "code",
   "execution_count": 27,
   "metadata": {},
   "outputs": [],
   "source": [
    "PDF_DIR = \"../../../notificaciones\""
   ]
  },
  {
   "cell_type": "code",
   "execution_count": 28,
   "metadata": {},
   "outputs": [],
   "source": [
    "def directory_loader(directory_path: str) -> List[Document]:\n",
    "    \"\"\"LOADS PDF DOCUMENTS FROM A GIVEN DIRECTORY WITH PROGRESS INDICATOR.\"\"\"\n",
    "\n",
    "    if not os.path.exists(directory_path):\n",
    "        raise ValueError(\n",
    "            f\"directory_loader() >>> DIRECTORY {directory_path} DOESN'T EXIST.\"\n",
    "        )\n",
    "\n",
    "    loaded_docs: List[Document] = []\n",
    "\n",
    "    # SEARCH IN THE GIVEN DIRECTORY FOR EACH PDF FILE IN IT AND GETS ITS PATH\n",
    "    pdf_files_info = []\n",
    "    for parent_dir_path, _, files in os.walk(directory_path):\n",
    "        for filename in files:\n",
    "            if filename.endswith(\".pdf\"):\n",
    "                file_path = os.path.join(parent_dir_path, filename)\n",
    "                pdf_files_info.append(file_path)\n",
    "\n",
    "    # LOADS EACH PDF FILE: FILE --> LIST[DOCUMENT]\n",
    "    for file_path in track(pdf_files_info, description=\"LOADING FILES\"):\n",
    "        loaded_file = PyMuPDFLoader(\n",
    "            file_path,\n",
    "            mode=\"page\",\n",
    "            images_inner_format=\"text\",\n",
    "            images_parser=RapidOCRBlobParser(),\n",
    "        ).load()\n",
    "\n",
    "        # DELETES UNNECESSARY METADATA AND APPENDS THE LOADED FILE TO THE LIST OF LOADED DOCS\n",
    "        for page in loaded_file:\n",
    "            \"\"\"\n",
    "            Other metadata's fields:\n",
    "                - file_path\n",
    "                - format\n",
    "                - producer\n",
    "                - creator\n",
    "                - creationdate\n",
    "                - author\n",
    "                - subject\n",
    "                - keywords\n",
    "                - moddate\n",
    "                - trapped\n",
    "                - modDate\n",
    "                - creationDate\n",
    "                - page\n",
    "                - total_pages\n",
    "            \"\"\"\n",
    "\n",
    "            page.metadata = {\n",
    "                \"source\": page.metadata[\"source\"],\n",
    "                \"filename\": page.metadata[\"title\"],\n",
    "            }\n",
    "\n",
    "        loaded_docs.append(loaded_file)\n",
    "\n",
    "    return loaded_docs"
   ]
  },
  {
   "cell_type": "code",
   "execution_count": null,
   "metadata": {},
   "outputs": [],
   "source": [
    "docs = directory_loader(PDF_DIR)"
   ]
  },
  {
   "cell_type": "code",
   "execution_count": 30,
   "metadata": {},
   "outputs": [
    {
     "data": {
      "text/plain": [
       "[Document(metadata={'source': '../../../notificaciones/RES 11-06-2024 -  SE CONCEDE RECURSO EN RELACION.pdf', 'filename': 'Despacho CIV 1950/2024 - SE CONCEDE RECURSO EN RELACION'}, page_content='#38617791#415584608#20240611104415348\\nPoder Judicial de la Nación\\nJUZGADO CIVIL 58\\n1950/2024\\nPROVINCIA ART SA c/ INTEGRITY SEGUROS ARGENTINA \\nS.A s/DILIGENCIAS PRELIMINARES\\nBuenos Aires,     de  \\n.- \\njunio de 2024\\nIGM\\nConcédese en relación el recurso de  apelación interpuesto\\ncontra el  pronunciamiento de fs. 16.\\nOportunamente, de estar en condiciones,  elévense los autos al\\nTribunal de Alzada, en la forma  de estilo.\\n \\nDigitally signed by MARIA DI\\nFILIPPO\\nDate: 2024.06.11 13:06:18 ART\\nSignature Not Verified')]"
      ]
     },
     "execution_count": 30,
     "metadata": {},
     "output_type": "execute_result"
    }
   ],
   "source": [
    "docs[0]"
   ]
  },
  {
   "cell_type": "code",
   "execution_count": null,
   "metadata": {},
   "outputs": [],
   "source": [
    "for index, doc in enumerate(docs):\n",
    "    for i, page in enumerate(doc):\n",
    "        print(\n",
    "            f\"[bold {blue}]> DOC N°:[/] {index}\\n[bold {orange}]> PAGE N°:[/] {i}\\n\\n[bold {emerald}]> METADATA:[/]\\n{page.metadata[\"filename\"]}\\n\\n[bold {yellow}]> CONTENT:[/]\\n{page.page_content}\"\n",
    "        )"
   ]
  }
 ],
 "metadata": {
  "kernelspec": {
   "display_name": "Python 3",
   "language": "python",
   "name": "python3"
  },
  "language_info": {
   "codemirror_mode": {
    "name": "ipython",
    "version": 3
   },
   "file_extension": ".py",
   "mimetype": "text/x-python",
   "name": "python",
   "nbconvert_exporter": "python",
   "pygments_lexer": "ipython3",
   "version": "3.12.4"
  }
 },
 "nbformat": 4,
 "nbformat_minor": 2
}
