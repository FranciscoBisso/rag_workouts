{
 "cells": [
  {
   "cell_type": "code",
   "execution_count": null,
   "metadata": {},
   "outputs": [],
   "source": [
    "%pip install -qU rapidocr-onnxruntime langchain langchain_community langchain_core pymupdf"
   ]
  },
  {
   "cell_type": "code",
   "execution_count": 47,
   "metadata": {},
   "outputs": [],
   "source": [
    "import os\n",
    "from langchain.schema import Document\n",
    "from langchain_community.document_loaders import PyMuPDFLoader\n",
    "from langchain_community.document_loaders.parsers import RapidOCRBlobParser\n",
    "from tqdm import tqdm\n",
    "from typing import List"
   ]
  },
  {
   "cell_type": "code",
   "execution_count": 49,
   "metadata": {},
   "outputs": [],
   "source": [
    "PDF_DIR = \"../../../notificaciones\""
   ]
  },
  {
   "cell_type": "code",
   "execution_count": 64,
   "metadata": {},
   "outputs": [],
   "source": [
    "def directory_loader(directory_path: str) -> List[Document]:\n",
    "    \"\"\"LOADS PDF DOCUMENTS FROM A GIVEN DIRECTORY WITH PROGRESS INDICATOR.\"\"\"\n",
    "\n",
    "    if not os.path.exists(directory_path):\n",
    "        raise ValueError(\n",
    "            f\"directory_loader() >>> DIRECTORY {directory_path} DOESN'T EXIST.\"\n",
    "        )\n",
    "\n",
    "    loaded_docs: List[Document] = []\n",
    "\n",
    "    # SEARCH IN THE GIVEN DIRECTORY FOR EACH PDF FILE IN IT AND GETS ITS PATH\n",
    "    pdf_files_info = []\n",
    "    for parent_dir_path, _, files in os.walk(directory_path):\n",
    "        for filename in files:\n",
    "            if filename.endswith(\".pdf\"):\n",
    "                file_path = os.path.join(parent_dir_path, filename)\n",
    "                pdf_files_info.append(file_path)\n",
    "\n",
    "    # LOADS EACH PDF FILE: FILE --> LIST[DOCUMENT]\n",
    "    for file_path in tqdm(pdf_files_info, desc=\"LOADING FILES\"):\n",
    "        loaded_file = PyMuPDFLoader(\n",
    "            file_path,\n",
    "            mode=\"page\",\n",
    "            images_inner_format=\"text\",\n",
    "            images_parser=RapidOCRBlobParser(),\n",
    "        ).load()\n",
    "\n",
    "        # DELETES UNNECESSARY METADATA AND APPENDS THE LOADED FILE TO THE LIST OF LOADED DOCS\n",
    "        for page in loaded_file:\n",
    "            del page.metadata[\"file_path\"]\n",
    "            del page.metadata[\"format\"]\n",
    "            del page.metadata[\"producer\"]\n",
    "            del page.metadata[\"creator\"]\n",
    "            del page.metadata[\"creationdate\"]\n",
    "            del page.metadata[\"author\"]\n",
    "            del page.metadata[\"subject\"]\n",
    "            del page.metadata[\"keywords\"]\n",
    "            del page.metadata[\"moddate\"]\n",
    "            del page.metadata[\"trapped\"]\n",
    "            del page.metadata[\"modDate\"]\n",
    "            del page.metadata[\"creationDate\"]\n",
    "            del page.metadata[\"page\"]\n",
    "            del page.metadata[\"total_pages\"]\n",
    "\n",
    "        loaded_docs.append(loaded_file)\n",
    "\n",
    "    return loaded_docs"
   ]
  },
  {
   "cell_type": "code",
   "execution_count": null,
   "metadata": {},
   "outputs": [],
   "source": [
    "docs = directory_loader(PDF_DIR)"
   ]
  },
  {
   "cell_type": "code",
   "execution_count": null,
   "metadata": {},
   "outputs": [],
   "source": [
    "docs[0]"
   ]
  },
  {
   "cell_type": "code",
   "execution_count": null,
   "metadata": {},
   "outputs": [],
   "source": [
    "for index, doc in enumerate(docs):\n",
    "    for i, page in enumerate(doc):\n",
    "        print(\n",
    "            f\"> DOC N°: {index}\\n> PAGE N°: {i}\\n\\n> METADATA:\\n{page.metadata}\\n\\n> CONTENT:\\n{page.page_content}\\n\\n{'-'*20}\\n\"\n",
    "        )"
   ]
  }
 ],
 "metadata": {
  "kernelspec": {
   "display_name": "Python 3",
   "language": "python",
   "name": "python3"
  },
  "language_info": {
   "codemirror_mode": {
    "name": "ipython",
    "version": 3
   },
   "file_extension": ".py",
   "mimetype": "text/x-python",
   "name": "python",
   "nbconvert_exporter": "python",
   "pygments_lexer": "ipython3",
   "version": "3.12.4"
  }
 },
 "nbformat": 4,
 "nbformat_minor": 2
}
